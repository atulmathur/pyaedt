{
 "cells": [
  {
   "cell_type": "markdown",
   "id": "a6a414fb-4f46-41d4-890e-293e89dad3e3",
   "metadata": {},
   "source": [
    "# pyaedt AnsysLAB proof of concept\n",
    "\n",
    "Uses pypim to create an aedt instance, and then uses pyaedt to \n",
    "prepare an HFSS project, solve it and display its solution\n",
    "\n",
    "### Assumptions:\n",
    "- client files must be available in ansysedt_client_basedir\n",
    "- syslib files must be available in ansysedt_client_basedir/syslib \n",
    "- userlib files must be available in ansysedt_client_basedir/userlib\n",
    "\n",
    "\n",
    "### Known issues: \n",
    "- HFSS analysis setup with a sweep fails to solve due to MPI configuration issue\n",
    "- Hardcodes ansysedt_client_basedir  to '/home/jovyan/shared/amathur/client_files' \n"
   ]
  },
  {
   "cell_type": "markdown",
   "id": "ced55d4b-c40c-4440-a133-f1ffcb5c5bde",
   "metadata": {},
   "source": [
    "\n",
    "## Install PyPim and client files for AEDT scripting"
   ]
  },
  {
   "cell_type": "code",
   "execution_count": 1,
   "id": "15622d15-7bd7-4aba-b12a-3c8024cbf492",
   "metadata": {},
   "outputs": [],
   "source": [
    "#First install pypim\n",
    "#!pip install ansys-platform-instancemanagement\n",
    "#!pip install pyaedt"
   ]
  },
  {
   "cell_type": "code",
   "execution_count": 2,
   "id": "5ba9d304-ebe0-4913-9989-7f03d084f665",
   "metadata": {
    "tags": []
   },
   "outputs": [],
   "source": [
    "# Next install the binaries for ansysedt client if needed\n",
    "# %cd ~/shared/amathur\n",
    "#!tar xf ansysedt_python_client.tar.gz\n",
    "#!ls /home/jovyan/shared/amathur/client_files"
   ]
  },
  {
   "cell_type": "markdown",
   "id": "8d759ba5-c8a2-4c7a-bdf2-89bfa81896ca",
   "metadata": {},
   "source": [
    "# Example - POC\n",
    "\n",
    "This POC uses  a non-standard (and non-pythonic) way of installing the client files needed for aedt scripting environment\n",
    "\n",
    "Instead, Alex has suggested preparing a python wheel. "
   ]
  },
  {
   "cell_type": "markdown",
   "id": "2f15f86b-9e91-4c30-8883-bde7f9e7c349",
   "metadata": {},
   "source": [
    "## Using PyPim, create an aedt instance "
   ]
  },
  {
   "cell_type": "code",
   "execution_count": 3,
   "id": "3d0bf1d5-f45b-4c88-a299-07d1f0b5406a",
   "metadata": {},
   "outputs": [
    {
     "name": "stdout",
     "output_type": "stream",
     "text": [
      "10.240.0.191 50051\n"
     ]
    }
   ],
   "source": [
    "import ansys.platform.instancemanagement as pypim\n",
    "import os\n",
    "\n",
    "# temporary: target the PIM with AEDT configured\n",
    "# os.environ[\"ANSYS_PLATFORM_INSTANCEMANAGEMENT_CONFIG\"]=\"/home/jovyan/shared/plule/pypim-aedt.json\"\n",
    "\n",
    "pim = pypim.connect()\n",
    "pim.list_definitions()\n",
    "aedt = pim.create_instance(product_name=\"aedt\")\n",
    "aedt.wait_for_ready()\n",
    "\n",
    "# Workaround, retrieve the ip and port from the address, this will break in the future\n",
    "address = aedt.services[\"grpc\"].uri.split(\":\")\n",
    "port = int(address[-1])\n",
    "machine = address[-2]\n",
    "print(machine, port)"
   ]
  },
  {
   "cell_type": "markdown",
   "id": "8ff7a6be-fc2c-4fbb-82c3-a0b4545415a8",
   "metadata": {},
   "source": [
    "## Add the location of DesktopPlugin python files to system path"
   ]
  },
  {
   "cell_type": "code",
   "execution_count": 4,
   "id": "b0857e4b-bd8a-4ee6-8fd0-f3915de05976",
   "metadata": {},
   "outputs": [],
   "source": [
    "import sys\n",
    "import os\n",
    "# Change the ansysedt_client_basedir path as needed\n",
    "ansysedt_client_basedir='/home/jovyan/shared/amathur/client_files'\n",
    "# Add the location of DesktopPlugin python files to system path\n",
    "sys.path.append(os.path.join(ansysedt_client_basedir,'PythonFiles/DesktopPlugin'))\n"
   ]
  },
  {
   "cell_type": "markdown",
   "id": "b8127ee3-e0dd-4d45-a222-a3ee850451ce",
   "metadata": {},
   "source": [
    "## Initialize aedt scripting environment"
   ]
  },
  {
   "cell_type": "code",
   "execution_count": 5,
   "id": "64e0ebc7-9ec1-400f-beda-f581b26c885c",
   "metadata": {},
   "outputs": [
    {
     "name": "stderr",
     "output_type": "stream",
     "text": [
      "E0616 22:01:26.317181133    1069 fork_posix.cc:70]           Fork support is only compatible with the epoll1 and poll polling strategies\n",
      "/home/jovyan/shared/amathur/client_files/PythonFiles/DesktopPlugin/ScriptEnv.py:115: UserWarning: Application was launched from different directory\n",
      "  warnings.warn(\"Application was launched from different directory\")\n"
     ]
    }
   ],
   "source": [
    "import ScriptEnv\n",
    "\n",
    "ScriptEnv.Initialize(\"Ansoft.ElectronicsDesktop\",machine=machine,port=port,NG=True)"
   ]
  },
  {
   "cell_type": "markdown",
   "id": "475d0086-eaa0-4bec-9216-e418e0bf825e",
   "metadata": {},
   "source": [
    "## Import PyAedt\n"
   ]
  },
  {
   "cell_type": "code",
   "execution_count": 6,
   "id": "6b319bba-5d5b-4d00-9714-a23d5d8f0fd3",
   "metadata": {},
   "outputs": [],
   "source": [
    "import pyaedt\n",
    "from pyaedt import Hfss\n",
    "from pyaedt import settings\n"
   ]
  },
  {
   "cell_type": "markdown",
   "id": "e4ec2d37-7b33-4870-a7f4-cc2a24599b25",
   "metadata": {},
   "source": [
    "## Configuration\n",
    "ANSYSEM_LOCAL_SYSLIB needs to point to a valid syslib that is available locally"
   ]
  },
  {
   "cell_type": "code",
   "execution_count": 7,
   "id": "2c5ee910-44db-4e29-92a7-572fd5125b4d",
   "metadata": {},
   "outputs": [],
   "source": [
    "## Environment variables\n",
    "os.environ['ANSYSEM_LOCAL_SYSLIB'] = os.path.join(ansysedt_client_basedir,\"syslib\")\n",
    "os.environ['ANSYSEM_LOCAL_USERLIB'] = os.path.join(ansysedt_client_basedir,\"userlib\")"
   ]
  },
  {
   "cell_type": "markdown",
   "id": "f020ea75-7dbe-4ca9-978b-1323ac38c999",
   "metadata": {},
   "source": [
    "pyaedt configuration for AnsysLab python environment that is needed for using the oDesktop object that is already initialized "
   ]
  },
  {
   "cell_type": "code",
   "execution_count": 8,
   "id": "58091027-0341-4af1-98d8-0e98e4bada64",
   "metadata": {},
   "outputs": [],
   "source": [
    "# Initialize pyaedt's logging and temp directory \n",
    "import tempfile\n",
    "pyaedt.desktop._com = \"python3\"\n",
    "tempfile.tempdir = \"/tmp\"\n",
    "settings.logger_file_path=\"/tmp/pyaedt.log\"\n",
    "oDesktop.SetProjectDirectory('/tmp')"
   ]
  },
  {
   "cell_type": "code",
   "execution_count": 9,
   "id": "db3f4a32-33f7-44f4-b6a3-f99f04e884be",
   "metadata": {
    "tags": []
   },
   "outputs": [
    {
     "name": "stderr",
     "output_type": "stream",
     "text": [
      "Logger Started on /tmp/pyaedt.log\n",
      "pyaedt v0.4.34\n",
      "Python version 3.9.12 | packaged by conda-forge | (main, Mar 24 2022, 23:25:59) \n",
      "[GCC 10.3.0]\n"
     ]
    },
    {
     "name": "stdout",
     "output_type": "stream",
     "text": [
      "pyaedt info: Logger Started on /tmp/pyaedt.log\n",
      "pyaedt info: pyaedt v0.4.34\n",
      "pyaedt info: Python version 3.9.12 | packaged by conda-forge | (main, Mar 24 2022, 23:25:59) \n",
      "[GCC 10.3.0]\n"
     ]
    }
   ],
   "source": [
    "desktop = pyaedt.desktop.Desktop()"
   ]
  },
  {
   "cell_type": "markdown",
   "id": "03fe57a4-7f9e-48a2-994b-e8affc07b833",
   "metadata": {},
   "source": [
    "## Define HfssProject class to override syslib etc\n",
    "pyaedt needs locally available syslib directory"
   ]
  },
  {
   "cell_type": "code",
   "execution_count": 10,
   "id": "8934c6ae-3135-4abc-8ddd-32bee03006c3",
   "metadata": {},
   "outputs": [],
   "source": [
    "# Assumes that environment variables ANSYSEM_LOCAL_SYSLIB and ANSYSEM_LOCAL_USERLIB point to locally available syslib and userlib resp.\n",
    "\n",
    "class HfssProject(Hfss,object):\n",
    "    def __init__(\n",
    "        self,\n",
    "        projectname=None,\n",
    "        designname=None,\n",
    "        solution_type=None,\n",
    "        setup_name=None,\n",
    "        specified_version=None,\n",
    "        non_graphical=False,\n",
    "        new_desktop_session=False,\n",
    "        close_on_exit=False,\n",
    "        student_version=False,\n",
    "    ):\n",
    "        Hfss.__init__(\n",
    "            self,\n",
    "            projectname,\n",
    "            designname,\n",
    "            solution_type,\n",
    "            setup_name,\n",
    "            specified_version,\n",
    "            non_graphical,\n",
    "            new_desktop_session,\n",
    "            close_on_exit,\n",
    "            student_version,\n",
    "        )\n",
    "        self.field_setups = self._get_rad_fields()\n",
    "\n",
    "    def _local_lib(self,lib_name):\n",
    "        \"\"\"Sys/User/PersonalLib directory on the local host using the value of ANSYSEM_LOCAL_xxx environment variable.\n",
    "        Parameters\n",
    "        ----------\n",
    "        lib_name : str\n",
    "            Library name. ``'syslib','userlib','personallib'``.\n",
    "\n",
    "        Returns\n",
    "        -------\n",
    "        str\n",
    "            Full absolute path for the specified directory on the local host.\n",
    "\n",
    "        \"\"\"\n",
    "        if not lib_name in \"syslib,userlib,personallib\":\n",
    "            return \"\"\n",
    "        env_name = \"ANSYSEM_LOCAL_%s\" % lib_name.upper()\n",
    "        local_path = os.environ.get(env_name,\"\")\n",
    "        if local_path and os.path.exists(local_path):\n",
    "            return local_path\n",
    "        return \"\"\n",
    "    \n",
    "    def _locally_available_lib(self,desktop_lib_path,lib_name):\n",
    "        \"\"\"returns a locally available path for lib_name. If the path provided by desktop is not available locally, it return \n",
    "        \n",
    "        Parameters\n",
    "        ----------\n",
    "        lib_name : str\n",
    "            Library name. ``'syslib','userlib','personallib'``.\n",
    "\n",
    "        Returns\n",
    "        -------\n",
    "        str\n",
    "            Full absolute path for the specified directory that is available locally.\n",
    "            Returns an empty string if the library is not available locally\n",
    "\n",
    "        \"\"\"\n",
    "        if os.path.exists(desktop_lib_path):\n",
    "            return os.path.normpath(desktop_lib_path)\n",
    "        local_path = self._local_lib(lib_name)\n",
    "        if local_path:\n",
    "            local_path = os.path.normpath(local_path)\n",
    "            ## self.logger.info(\"HfssProject: Library %s switched locally from %s to %s.\", lib_name, desktop_lib_path, local_path)\n",
    "        return local_path\n",
    "        \n",
    "    @property\n",
    "    def personallib(self):\n",
    "        \"\"\"PersonalLib directory.\n",
    "\n",
    "        Returns\n",
    "        -------\n",
    "        str\n",
    "            Full absolute path for the ``PersonalLib`` directory.\n",
    "\n",
    "        References\n",
    "        ----------\n",
    "\n",
    "        >>> oDesktop.GetPersonalLibDirectory\n",
    "        \"\"\"\n",
    "        return self._locally_available_lib(self.odesktop.GetPersonalLibDirectory(),\"personallib\")\n",
    "\n",
    "    @property\n",
    "    def userlib(self):\n",
    "        \"\"\"UserLib directory.\n",
    "\n",
    "        Returns\n",
    "        -------\n",
    "        str\n",
    "            Full absolute path for the ``UserLib`` directory.\n",
    "\n",
    "        References\n",
    "        ----------\n",
    "\n",
    "        >>> oDesktop.GetUserLibDirectory\n",
    "        \"\"\"\n",
    "        return self._locally_available_lib(self.odesktop.GetUserLibDirectory(),\"userlib\")\n",
    "\n",
    "    @property\n",
    "    def syslib(self):\n",
    "        \"\"\"SysLib directory.\n",
    "\n",
    "        Returns\n",
    "        -------\n",
    "        str\n",
    "            Full absolute path for the ``SysLib`` directory.\n",
    "\n",
    "        References\n",
    "        ----------\n",
    "\n",
    "        >>> oDesktop.GetLibraryDirectory\n",
    "        \"\"\"\n",
    "        return self._locally_available_lib(self.odesktop.GetLibraryDirectory(),\"syslib\")  \n",
    "    \n",
    "    def get_remote_syslib_path(self,filepath):\n",
    "        \"\"\"Replaces SysLib directory to the directory on the remote server.\n",
    "\n",
    "        Returns\n",
    "        -------\n",
    "        str\n",
    "            Full absolute path for the file in ``SysLib`` directory on the remote server.\n",
    "\n",
    "        \"\"\"\n",
    "        return filepath.replace(self.syslib,self.odesktop.GetLibraryDirectory())        \n",
    "        "
   ]
  },
  {
   "cell_type": "markdown",
   "id": "7cace200-827e-41ad-b790-0b39b6a37604",
   "metadata": {},
   "source": [
    "## Run a pyaedt example \n",
    "Based on pyaedt's HFSS_Dipole example\n",
    "\n",
    "Note that instead of pyaedt's Hfss class, it uses the above HfssProject class, which is a derived class"
   ]
  },
  {
   "cell_type": "code",
   "execution_count": 11,
   "id": "0bdf4619-4dd5-4672-97d7-d02073fe50e9",
   "metadata": {},
   "outputs": [
    {
     "name": "stderr",
     "output_type": "stream",
     "text": [
      "Project Project1 has been created.\n",
      "No design is present. Inserting a new design.\n"
     ]
    },
    {
     "name": "stdout",
     "output_type": "stream",
     "text": [
      "pyaedt info: Project Project1 has been created.\n",
      "pyaedt info: No design is present. Inserting a new design.\n"
     ]
    },
    {
     "name": "stderr",
     "output_type": "stream",
     "text": [
      "Design Loaded\n",
      "Successfully loaded project materials !\n",
      "Materials Loaded\n"
     ]
    },
    {
     "name": "stdout",
     "output_type": "stream",
     "text": [
      "pyaedt info: Design Loaded\n",
      "pyaedt info: Successfully loaded project materials !\n",
      "pyaedt info: Materials Loaded\n"
     ]
    }
   ],
   "source": [
    "hfss = HfssProject(solution_type=\"Modal\")\n"
   ]
  },
  {
   "cell_type": "code",
   "execution_count": 12,
   "id": "d6b4bedf-70a6-4865-8280-f69afc2bd850",
   "metadata": {},
   "outputs": [
    {
     "data": {
      "text/plain": [
       "'Library directory in the AnsysEM container: /opt/AnsysEM/v222/Linux64/syslib'"
      ]
     },
     "execution_count": 12,
     "metadata": {},
     "output_type": "execute_result"
    }
   ],
   "source": [
    "\"Library directory in the AnsysEM container: %s\" % hfss.odesktop.GetLibraryDirectory()"
   ]
  },
  {
   "cell_type": "code",
   "execution_count": 13,
   "id": "2fec679d-eb0b-4e0c-88ae-c13a12395660",
   "metadata": {},
   "outputs": [
    {
     "data": {
      "text/plain": [
       "'Library directory available locally: /home/jovyan/shared/amathur/client_files/syslib'"
      ]
     },
     "execution_count": 13,
     "metadata": {},
     "output_type": "execute_result"
    }
   ],
   "source": [
    "\"Library directory available locally: %s\" % hfss.syslib"
   ]
  },
  {
   "cell_type": "code",
   "execution_count": 14,
   "id": "35ebe4f6-424e-4c1c-91d3-431a684450d7",
   "metadata": {},
   "outputs": [
    {
     "data": {
      "text/plain": [
       "'Dipole_Antenna1'"
      ]
     },
     "execution_count": 14,
     "metadata": {},
     "output_type": "execute_result"
    }
   ],
   "source": [
    "# From pyaedt/examples/02-HFSS/HFSS_Dipole.py\n",
    "###############################################################################\n",
    "# Define a Dipole Length Variable\n",
    "# ~~~~~~~~~~~~~~~~~~~~~~~~~~~~~~~\n",
    "# This command defines a dipole length variable.\n",
    "\n",
    "hfss[\"l_dipole\"] = \"13.5cm\"\n",
    "\n",
    "###############################################################################\n",
    "# Get a 3D Component from the `syslib` Directory\n",
    "# ----------------------------------------------\n",
    "# To run this example correctly, you must get all geometry parameters of the\n",
    "# 3D component or, in case of an encrypted 3D component, create a dictionary\n",
    "# of the parameters.\n",
    "\n",
    "compfile = hfss.components3d[\"Dipole_Antenna_DM\"]\n",
    "\n",
    "geometryparams = hfss.get_components3d_vars(\"Dipole_Antenna_DM\")\n",
    "geometryparams[\"dipole_length\"] = \"l_dipole\"\n",
    "compfile = hfss.get_remote_syslib_path(compfile)\n",
    "hfss.modeler.insert_3d_component(compfile, geometryparams)"
   ]
  },
  {
   "cell_type": "code",
   "execution_count": 15,
   "id": "c78f501d-22cd-44bc-9b42-695ebe91b2ad",
   "metadata": {},
   "outputs": [
    {
     "data": {
      "text/plain": [
       "True"
      ]
     },
     "execution_count": 15,
     "metadata": {},
     "output_type": "execute_result"
    }
   ],
   "source": [
    "\n",
    "###############################################################################\n",
    "# Create the Setup\n",
    "# ----------------\n",
    "# A setup with a sweep will be used to run the simulation.\n",
    "\n",
    "setup = hfss.create_setup(\"MySetup\")\n",
    "setup.props[\"Frequency\"] = \"1GHz\"\n",
    "setup.props[\"MaximumPasses\"] = 4\n",
    "setup.update()\n"
   ]
  },
  {
   "cell_type": "code",
   "execution_count": null,
   "id": "13cb8e02-2347-4437-b1e5-c72732aa85d8",
   "metadata": {},
   "outputs": [],
   "source": [
    "# Known issue: the sweep creation always causes analysis to fail due to MPI configuration issue\n",
    "hfss.create_linear_count_sweep(\n",
    "    setupname=setup.name,\n",
    "    unit=\"GHz\",\n",
    "    freqstart=0.5,\n",
    "    freqstop=1.5,\n",
    "    num_of_freq_points=251,\n",
    "    sweepname=\"sweep1\",\n",
    "    sweep_type=\"Interpolating\",\n",
    "    interpolation_tol=3,\n",
    "    interpolation_max_solutions=255,\n",
    "    save_fields=False,\n",
    ")\n"
   ]
  },
  {
   "cell_type": "code",
   "execution_count": 16,
   "id": "1098df53-a24b-4f92-bc9d-3884b7bb6acf",
   "metadata": {},
   "outputs": [
    {
     "name": "stderr",
     "output_type": "stream",
     "text": [
      "Open Region correctly created.\n"
     ]
    },
    {
     "name": "stdout",
     "output_type": "stream",
     "text": [
      "pyaedt info: Open Region correctly created.\n"
     ]
    },
    {
     "data": {
      "text/plain": [
       "True"
      ]
     },
     "execution_count": 16,
     "metadata": {},
     "output_type": "execute_result"
    }
   ],
   "source": [
    "###############################################################################\n",
    "# Create Boundaries\n",
    "# -----------------\n",
    "# A region with openings is needed to run the analysis.\n",
    "\n",
    "hfss.create_open_region(Frequency=\"1GHz\")"
   ]
  },
  {
   "cell_type": "code",
   "execution_count": 17,
   "id": "3c7da59b-44ef-423f-8771-2aa90bbb39c6",
   "metadata": {},
   "outputs": [
    {
     "name": "stderr",
     "output_type": "stream",
     "text": [
      "Saving Project1 Project\n"
     ]
    },
    {
     "name": "stdout",
     "output_type": "stream",
     "text": [
      "pyaedt info: Saving Project1 Project\n"
     ]
    },
    {
     "data": {
      "text/plain": [
       "True"
      ]
     },
     "execution_count": 17,
     "metadata": {},
     "output_type": "execute_result"
    }
   ],
   "source": [
    "hfss.save_project(os.path.join(\"/tmp\", \"MyDipole-example.aedt\"))\n",
    "\n"
   ]
  },
  {
   "cell_type": "code",
   "execution_count": 18,
   "id": "0601684d-fc6e-4e57-ad5e-c8c42c3e1fbb",
   "metadata": {},
   "outputs": [
    {
     "name": "stderr",
     "output_type": "stream",
     "text": [
      "Solving design setup MySetup\n",
      "Design setup MySetup solved correctly\n"
     ]
    },
    {
     "name": "stdout",
     "output_type": "stream",
     "text": [
      "pyaedt info: Solving design setup MySetup\n",
      "pyaedt info: Design setup MySetup solved correctly\n"
     ]
    },
    {
     "data": {
      "text/plain": [
       "True"
      ]
     },
     "execution_count": 18,
     "metadata": {},
     "output_type": "execute_result"
    }
   ],
   "source": [
    "hfss.analyze_setup(\"MySetup\")"
   ]
  },
  {
   "cell_type": "code",
   "execution_count": 23,
   "id": "02df01d4-edff-41b3-9203-e1f125c5e05f",
   "metadata": {},
   "outputs": [
    {
     "data": {
      "text/plain": [
       "['GRPC server running on port: 50051.\\n',\n",
       " 'Logger Started on /tmp/pyaedt.log',\n",
       " 'pyaedt v0.4.34',\n",
       " 'Python version 3.9.12 | packaged by conda-forge | (main, Mar 24 2022, 23:25:59) \\n[GCC 10.3.0]',\n",
       " 'Project Project1 has been created.',\n",
       " 'No design is present. Inserting a new design.',\n",
       " 'Design Loaded',\n",
       " 'Successfully loaded project materials !',\n",
       " 'Materials Loaded',\n",
       " 'Open Region correctly created.',\n",
       " 'Saving Project1 Project',\n",
       " 'Solving design setup MySetup',\n",
       " 'Design setup MySetup solved correctly',\n",
       " 'Solution Data Correctly Loaded.',\n",
       " 'Adaptive Passes did not converge based on specified criteria. (10:04:20 PM  Jun 16, 2022)',\n",
       " 'Normal completion of simulation on server: Local Machine. (10:04:20 PM  Jun 16, 2022)',\n",
       " 'Script macro error: No data found for 1GHz (10:04:54 PM  Jun 16, 2022)']"
      ]
     },
     "execution_count": 23,
     "metadata": {},
     "output_type": "execute_result"
    }
   ],
   "source": [
    "hfss.odesktop.GetMessages(\"\",\"\",0)"
   ]
  },
  {
   "cell_type": "code",
   "execution_count": null,
   "id": "f40bb8c1-5ba6-4a33-9d6e-acc5dc6a6b4a",
   "metadata": {},
   "outputs": [],
   "source": [
    "###############################################################################\n",
    "# Postprocessing\n",
    "# --------------\n",
    "# Generate a scattering plot and a far fields plot.\n",
    "\n",
    "# hfss.create_scattering(\"MyScattering\")\n",
    "variations = hfss.available_variations.nominal_w_values_dict\n",
    "variations[\"Freq\"] = [\"1GHz\"]\n",
    "variations[\"Theta\"] = [\"All\"]\n",
    "variations[\"Phi\"] = [\"All\"]\n",
    "hfss.post.create_rectangular_plot(\n",
    "    \"db(GainTotal)\", hfss.nominal_adaptive, variations, \"Theta\", \"3D\", report_category=\"Far Fields\"\n",
    ")\n"
   ]
  },
  {
   "cell_type": "code",
   "execution_count": null,
   "id": "fd9e6168-f0d1-49ef-8e13-51113253ba4d",
   "metadata": {},
   "outputs": [],
   "source": [
    "###############################################################################\n",
    "# Plot the model\n",
    "# ~~~~~~~~~~~~~~\n",
    "\n",
    "my_plot = hfss.plot(show=False, plot_air_objects=False)\n",
    "my_plot.show_axes = False\n",
    "my_plot.show_grid = False\n",
    "my_plot.isometric_view = False\n",
    "my_plot.plot(\n",
    "    os.path.join(\"/tmp\", \"Image.jpg\"),\n",
    ")"
   ]
  },
  {
   "cell_type": "code",
   "execution_count": 21,
   "id": "ffaee52f-15af-48ed-9fbf-f59743cd1a76",
   "metadata": {},
   "outputs": [],
   "source": [
    "variations = hfss.available_variations.nominal_w_values_dict\n",
    "variations[\"Freq\"] = [\"1GHz\"]\n",
    "variations[\"Theta\"] = [\"All\"]\n",
    "variations[\"Phi\"] = [\"All\"]\n"
   ]
  },
  {
   "cell_type": "code",
   "execution_count": 22,
   "id": "c25ed8fc-b646-4087-a6db-0192525fa2b7",
   "metadata": {},
   "outputs": [
    {
     "name": "stderr",
     "output_type": "stream",
     "text": [
      "Solution Data Correctly Loaded.\n"
     ]
    },
    {
     "name": "stdout",
     "output_type": "stream",
     "text": [
      "pyaedt info: Solution Data Correctly Loaded.\n"
     ]
    },
    {
     "name": "stderr",
     "output_type": "stream",
     "text": [
      "  File \"/opt/conda/lib/python3.9/runpy.py\", line 197, in _run_module_as_main\n",
      "    return _run_code(code, main_globals, None,\n",
      "  File \"/opt/conda/lib/python3.9/runpy.py\", line 87, in _run_code\n",
      "    exec(code, run_globals)\n",
      "  File \"/opt/conda/lib/python3.9/site-packages/ipykernel_launcher.py\", line 16, in <module>\n",
      "    app.launch_new_instance()\n",
      "  File \"/opt/conda/lib/python3.9/site-packages/traitlets/config/application.py\", line 846, in launch_instance\n",
      "    app.start()\n",
      "  File \"/opt/conda/lib/python3.9/site-packages/ipykernel/kernelapp.py\", line 677, in start\n",
      "    self.io_loop.start()\n",
      "  File \"/opt/conda/lib/python3.9/site-packages/tornado/platform/asyncio.py\", line 199, in start\n",
      "    self.asyncio_loop.run_forever()\n",
      "  File \"/opt/conda/lib/python3.9/asyncio/base_events.py\", line 601, in run_forever\n",
      "    self._run_once()\n",
      "  File \"/opt/conda/lib/python3.9/asyncio/base_events.py\", line 1905, in _run_once\n",
      "    handle._run()\n",
      "  File \"/opt/conda/lib/python3.9/asyncio/events.py\", line 80, in _run\n",
      "    self._context.run(self._callback, *self._args)\n",
      "  File \"/opt/conda/lib/python3.9/site-packages/ipykernel/kernelbase.py\", line 471, in dispatch_queue\n",
      "    await self.process_one()\n",
      "  File \"/opt/conda/lib/python3.9/site-packages/ipykernel/kernelbase.py\", line 460, in process_one\n",
      "    await dispatch(*args)\n",
      "  File \"/opt/conda/lib/python3.9/site-packages/ipykernel/kernelbase.py\", line 367, in dispatch_shell\n",
      "    await result\n",
      "  File \"/opt/conda/lib/python3.9/site-packages/ipykernel/kernelbase.py\", line 662, in execute_request\n",
      "    reply_content = await reply_content\n",
      "  File \"/opt/conda/lib/python3.9/site-packages/ipykernel/ipkernel.py\", line 360, in do_execute\n",
      "    res = shell.run_cell(code, store_history=store_history, silent=silent)\n",
      "  File \"/opt/conda/lib/python3.9/site-packages/ipykernel/zmqshell.py\", line 532, in run_cell\n",
      "    return super().run_cell(*args, **kwargs)\n",
      "  File \"/opt/conda/lib/python3.9/site-packages/IPython/core/interactiveshell.py\", line 2854, in run_cell\n",
      "    result = self._run_cell(\n",
      "  File \"/opt/conda/lib/python3.9/site-packages/IPython/core/interactiveshell.py\", line 2900, in _run_cell\n",
      "    return runner(coro)\n",
      "  File \"/opt/conda/lib/python3.9/site-packages/IPython/core/async_helpers.py\", line 129, in _pseudo_sync_runner\n",
      "    coro.send(None)\n",
      "  File \"/opt/conda/lib/python3.9/site-packages/IPython/core/interactiveshell.py\", line 3098, in run_cell_async\n",
      "    has_raised = await self.run_ast_nodes(code_ast.body, cell_name,\n",
      "  File \"/opt/conda/lib/python3.9/site-packages/IPython/core/interactiveshell.py\", line 3301, in run_ast_nodes\n",
      "    if await self.run_code(code, result, async_=asy):\n",
      "  File \"/opt/conda/lib/python3.9/site-packages/IPython/core/interactiveshell.py\", line 3361, in run_code\n",
      "    exec(code_obj, self.user_global_ns, self.user_ns)\n",
      "  File \"/tmp/ipykernel_1069/191074508.py\", line 1, in <cell line: 1>\n",
      "    solutions = hfss.post.get_solution_data_per_variation(\n",
      "  File \"/opt/conda/lib/python3.9/site-packages/pyaedt/generic/general_methods.py\", line 246, in inner_function\n",
      "    out = func(*new_args, **new_kwargs)\n",
      "  File \"/opt/conda/lib/python3.9/site-packages/pyaedt/modules/PostProcessor.py\", line 1419, in get_solution_data_per_variation\n",
      "    return SolutionData(data)\n",
      "  File \"/opt/conda/lib/python3.9/site-packages/pyaedt/modules/PostProcessor.py\", line 55, in __init__\n",
      "    self._init_solutions_data()\n",
      "  File \"/opt/conda/lib/python3.9/site-packages/pyaedt/generic/general_methods.py\", line 246, in inner_function\n",
      "    out = func(*new_args, **new_kwargs)\n",
      "  File \"/opt/conda/lib/python3.9/site-packages/pyaedt/modules/PostProcessor.py\", line 119, in _init_solutions_data\n",
      "    self.solutions_data_imag = self._solution_data_imag()\n",
      "  File \"/opt/conda/lib/python3.9/site-packages/pyaedt/generic/general_methods.py\", line 246, in inner_function\n",
      "    out = func(*new_args, **new_kwargs)\n",
      "  File \"/opt/conda/lib/python3.9/site-packages/pyaedt/modules/PostProcessor.py\", line 189, in _solution_data_imag\n",
      "    solution = list(self.nominal_variation.GetImagDataValues(expression, False))\n",
      "RuntimeError: Error 0x80020009;  Logs or message window might have more details\n"
     ]
    }
   ],
   "source": [
    "solutions = hfss.post.get_solution_data_per_variation(\n",
    "\n",
    "    \"GainTotal\",\n",
    "\n",
    "    hfss.nominal_adaptive,\n",
    "\n",
    "    variations,\n",
    "\n",
    "#    primary_sweep_variable=\"Theta\",\n",
    "\n",
    "#    context=\"3D\",\n",
    "\n",
    "#    report_category=\"Far Fields\",\n",
    "\n",
    ")"
   ]
  },
  {
   "cell_type": "code",
   "execution_count": 24,
   "id": "eeb4f765-f390-42f9-99d9-e3f8b47c881f",
   "metadata": {},
   "outputs": [
    {
     "data": {
      "text/plain": [
       "[1.0]"
      ]
     },
     "execution_count": 24,
     "metadata": {},
     "output_type": "execute_result"
    }
   ],
   "source": [
    " #hfss.nominal_adaptive, variations, \n",
    " solutions.data_real()"
   ]
  },
  {
   "cell_type": "markdown",
   "id": "123373af-6442-4a62-b008-ffe6fb69293f",
   "metadata": {},
   "source": [
    "## Stop aedt instance"
   ]
  },
  {
   "cell_type": "code",
   "execution_count": 25,
   "id": "9d69a9ca-bd64-41e9-b95d-c99b3a8587e4",
   "metadata": {},
   "outputs": [],
   "source": [
    "aedt.delete()"
   ]
  },
  {
   "cell_type": "code",
   "execution_count": null,
   "id": "ce875aef-1d71-4d64-85e8-d3118cef03d3",
   "metadata": {},
   "outputs": [],
   "source": []
  }
 ],
 "metadata": {
  "kernelspec": {
   "display_name": "Python 3 (ipykernel)",
   "language": "python",
   "name": "python3"
  },
  "language_info": {
   "codemirror_mode": {
    "name": "ipython",
    "version": 3
   },
   "file_extension": ".py",
   "mimetype": "text/x-python",
   "name": "python",
   "nbconvert_exporter": "python",
   "pygments_lexer": "ipython3",
   "version": "3.9.12"
  }
 },
 "nbformat": 4,
 "nbformat_minor": 5
}
